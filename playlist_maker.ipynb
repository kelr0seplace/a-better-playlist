{
 "cells": [
  {
   "cell_type": "markdown",
   "id": "0f48892b",
   "metadata": {},
   "source": [
    "**Function for user input:**\n",
    "\n",
    "- generates list of track URIs based on the mood specified\n",
    "- returns random sample of URI links\n",
    "- makes API call to spotify using list of URIs and creates playlist\n",
    "- variables saved for use as playlist name\n",
    "\n",
    "**Limitations:**\n",
    "\n",
    "- only able to create playlist on my account (I do not have the ability currently to create playlists for other users based on my app permissions"
   ]
  },
  {
   "cell_type": "code",
   "execution_count": 1,
   "id": "9fa20ab4",
   "metadata": {
    "ExecuteTime": {
     "end_time": "2021-07-07T03:03:04.713346Z",
     "start_time": "2021-07-07T03:03:04.161655Z"
    }
   },
   "outputs": [],
   "source": [
    "import pandas as pd\n",
    "\n",
    "import json\n",
    "import requests\n",
    "import spotipy\n",
    "import spotipy.util as util\n",
    "from spotipy.oauth2 import SpotifyClientCredentials"
   ]
  },
  {
   "cell_type": "code",
   "execution_count": 2,
   "id": "e5f5b06d",
   "metadata": {
    "ExecuteTime": {
     "end_time": "2021-07-07T03:03:04.944620Z",
     "start_time": "2021-07-07T03:03:04.716676Z"
    }
   },
   "outputs": [],
   "source": [
    "df = pd.read_csv('data/alt_moods_final.csv')"
   ]
  },
  {
   "cell_type": "markdown",
   "id": "5733cec4",
   "metadata": {},
   "source": [
    "**Split into four separate dataframes based on mood label (not necessary but makes function less busy)**"
   ]
  },
  {
   "cell_type": "code",
   "execution_count": 3,
   "id": "2e188bcb",
   "metadata": {
    "ExecuteTime": {
     "end_time": "2021-07-07T03:03:05.324073Z",
     "start_time": "2021-07-07T03:03:05.288331Z"
    }
   },
   "outputs": [],
   "source": [
    "calm = df[df['labels'] == 'calm']\n",
    "happy = df[df['labels'] == 'happy']\n",
    "energetic = df[df['labels'] == 'energetic']\n",
    "sad = df[df['labels'] == 'sad']"
   ]
  },
  {
   "cell_type": "code",
   "execution_count": 4,
   "id": "4fc6d00c",
   "metadata": {
    "ExecuteTime": {
     "end_time": "2021-07-07T03:03:06.136143Z",
     "start_time": "2021-07-07T03:03:06.127048Z"
    }
   },
   "outputs": [],
   "source": [
    "def playlist():\n",
    "    '''\n",
    "    Takes no arguments.\n",
    "    \n",
    "    This function is used in order to generate a random sample of 12 song URIs in \n",
    "    1 of 4 mood-related dataframes (calm, happy, sad, energetic)\n",
    "    \n",
    "    User input: user enters a name, then choice of one of four moods, then a \n",
    "    title for the playlist. The title (playlist.title) is used as the playlist\n",
    "    name in spotify. It is named thusly to reference outside of the function.\n",
    "    \n",
    "    '''\n",
    "    playlist.name = input('Hi! What\\'s your name? ')\n",
    "    playlist.mood_choice = input(\"Select a mood - Calm, Energetic, Happy or Sad: \")\n",
    "    playlist.title = input(\"What would you like to name your playlist? \")\n",
    "    if playlist.mood_choice.lower() == 'calm':\n",
    "        print('Run the cells below to retrieve your playlist!')\n",
    "        return calm['uri'].sample(n=15)\n",
    "    elif playlist.mood_choice.lower() == 'energetic':\n",
    "        print('Run the cells below to retrieve your playlist!')\n",
    "        return energetic['uri'].sample(n=15)\n",
    "    elif playlist.mood_choice.lower() == 'happy':\n",
    "        print('Run the cells below to retrieve your playlist!')\n",
    "        return happy['uri'].sample(n=15)\n",
    "    elif playlist.mood_choice.lower() == 'sad':\n",
    "        print('Run the cells below to retrieve your playlist!')\n",
    "        return sad['uri'].sample(n=15)\n",
    "    else:\n",
    "        return 'Mood not recognized. Please try again.'"
   ]
  },
  {
   "cell_type": "markdown",
   "id": "e49816b5",
   "metadata": {},
   "source": [
    "**Run function for playlist name. Must cast as list to be readable when filling empty playlist with URIs (can not read pandas series).**"
   ]
  },
  {
   "cell_type": "code",
   "execution_count": 5,
   "id": "4d21fe90",
   "metadata": {
    "ExecuteTime": {
     "end_time": "2021-07-07T03:03:12.985558Z",
     "start_time": "2021-07-07T03:03:07.686842Z"
    }
   },
   "outputs": [
    {
     "name": "stdout",
     "output_type": "stream",
     "text": [
      "Hi! What's your name? Kelly\n",
      "Select a mood - Calm, Energetic, Happy or Sad: calm\n",
      "What would you like to name your playlist? Hi\n",
      "Run the cells below to retrieve your playlist!\n"
     ]
    }
   ],
   "source": [
    "uris = list(playlist())"
   ]
  },
  {
   "cell_type": "markdown",
   "id": "21b27a0e",
   "metadata": {},
   "source": [
    "**Create empty playlist**"
   ]
  },
  {
   "cell_type": "code",
   "execution_count": null,
   "id": "37a74991",
   "metadata": {
    "ExecuteTime": {
     "end_time": "2021-07-07T03:08:48.604436Z",
     "start_time": "2021-07-07T03:08:48.395936Z"
    }
   },
   "outputs": [],
   "source": [
    "#spotipy credentials\n",
    "scope = 'playlist-modify-public'\n",
    "user_id = 'SPOTIFY_USER_ID'\n",
    "client_id = 'YOUR_CLIENT_ID'\n",
    "client_secret = 'YOUR_CLIENT_SECRET'\n",
    "client_credentials_manager = SpotifyClientCredentials(client_id, client_secret)\n",
    "sp = spotipy.Spotify(client_credentials_manager=client_credentials_manager)\n",
    "\n",
    "token = util.prompt_for_user_token(user_id,scope,client_id=client_id,client_secret=client_secret,redirect_uri='http://localhost/8080') \n",
    "sp = spotipy.Spotify(auth=token)\n",
    "playlist_name = playlist.title    \n",
    "sp.user_playlist_create(user_id, name=playlist_name)"
   ]
  },
  {
   "cell_type": "markdown",
   "id": "c6274421",
   "metadata": {},
   "source": [
    "**Access Spotify playlist id to fill with songs generated in `playlist` function**"
   ]
  },
  {
   "cell_type": "code",
   "execution_count": 182,
   "id": "3d95615f",
   "metadata": {
    "ExecuteTime": {
     "end_time": "2021-07-07T01:48:18.068746Z",
     "start_time": "2021-07-07T01:48:18.063983Z"
    }
   },
   "outputs": [],
   "source": [
    "def playlist_id(user_id, playlist_name):\n",
    "    playlist_id = ''\n",
    "    playlists = sp.user_playlists(user_id)\n",
    "    for playlist in playlists['items']:  # iterate through playlists in my account\n",
    "        if playlist['name'] == playlist_name:  # filter for playlist I just created\n",
    "            playlist_id = playlist['id']\n",
    "    return playlist_id"
   ]
  },
  {
   "cell_type": "markdown",
   "id": "2a49e8a5",
   "metadata": {},
   "source": [
    "**Fill playlist with songs!**"
   ]
  },
  {
   "cell_type": "code",
   "execution_count": 183,
   "id": "e1b47704",
   "metadata": {
    "ExecuteTime": {
     "end_time": "2021-07-07T01:48:19.162206Z",
     "start_time": "2021-07-07T01:48:18.799651Z"
    }
   },
   "outputs": [
    {
     "data": {
      "text/plain": [
       "<Response [201]>"
      ]
     },
     "execution_count": 183,
     "metadata": {},
     "output_type": "execute_result"
    }
   ],
   "source": [
    "#unique playlist id\n",
    "playlist_id = playlist_id(user_id, playlist_name)\n",
    "\n",
    "#api endpoint\n",
    "endpoint_url = f\"https://api.spotify.com/v1/playlists/{playlist_id}/tracks\"\n",
    "\n",
    "#retrieve songs with list of URIs\n",
    "request_body = json.dumps({\n",
    "          \"uris\" : uris\n",
    "        })\n",
    "\n",
    "#if response is 201, we're good to go\n",
    "response = requests.post(url = endpoint_url, data = request_body, headers={\"Content-Type\":\"application/json\", \n",
    "                        \"Authorization\":f\"Bearer {token}\"})\n",
    "\n",
    "response"
   ]
  },
  {
   "cell_type": "markdown",
   "id": "d3096ff3",
   "metadata": {},
   "source": [
    "**Future things:**\n",
    "\n",
    "- add additional parameters when classifying moods (ie thresholds for valence, energy, etc.)\n",
    "- flask app to host playlist generator\n",
    "- add genres to scraper"
   ]
  }
 ],
 "metadata": {
  "kernelspec": {
   "display_name": "Python 3",
   "language": "python",
   "name": "python3"
  },
  "language_info": {
   "codemirror_mode": {
    "name": "ipython",
    "version": 3
   },
   "file_extension": ".py",
   "mimetype": "text/x-python",
   "name": "python",
   "nbconvert_exporter": "python",
   "pygments_lexer": "ipython3",
   "version": "3.9.2"
  }
 },
 "nbformat": 4,
 "nbformat_minor": 5
}
