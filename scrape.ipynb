{
 "cells": [
  {
   "cell_type": "code",
   "execution_count": 76,
   "id": "0de7b3dc",
   "metadata": {
    "ExecuteTime": {
     "end_time": "2021-07-06T16:12:08.088923Z",
     "start_time": "2021-07-06T16:12:08.062296Z"
    }
   },
   "outputs": [],
   "source": [
    "import pandas as pd\n",
    "import numpy as np\n",
    "import seaborn as sns\n",
    "import matplotlib.pyplot as plt"
   ]
  },
  {
   "cell_type": "markdown",
   "id": "9b7040df",
   "metadata": {},
   "source": [
    "**Read in MTV artist files and merge for scrape (using these files to specify genre)**"
   ]
  },
  {
   "cell_type": "code",
   "execution_count": 77,
   "id": "e0f533e6",
   "metadata": {
    "ExecuteTime": {
     "end_time": "2021-07-06T16:12:08.967063Z",
     "start_time": "2021-07-06T16:12:08.703646Z"
    }
   },
   "outputs": [],
   "source": [
    "mtv1 = pd.read_csv('data/10000-MTV-Music-Artists-page-1.csv')\n",
    "mtv2 = pd.read_csv('data/10000-MTV-Music-Artists-page-2.csv')\n",
    "mtv3 = pd.read_csv('data/10000-MTV-Music-Artists-page-3.csv')\n",
    "mtv4 = pd.read_csv('data/10000-MTV-Music-Artists-page-4.csv')"
   ]
  },
  {
   "cell_type": "code",
   "execution_count": 78,
   "id": "35b43440",
   "metadata": {
    "ExecuteTime": {
     "end_time": "2021-07-06T16:12:09.125137Z",
     "start_time": "2021-07-06T16:12:09.082409Z"
    }
   },
   "outputs": [],
   "source": [
    "mtv_artists = pd.concat([mtv1, mtv2, mtv3, mtv4], ignore_index=True)"
   ]
  },
  {
   "cell_type": "code",
   "execution_count": 79,
   "id": "86b7245c",
   "metadata": {
    "ExecuteTime": {
     "end_time": "2021-07-06T16:12:09.455884Z",
     "start_time": "2021-07-06T16:12:09.447255Z"
    }
   },
   "outputs": [
    {
     "data": {
      "text/plain": [
       "(8344, 6)"
      ]
     },
     "execution_count": 79,
     "metadata": {},
     "output_type": "execute_result"
    }
   ],
   "source": [
    "mtv_artists.shape"
   ]
  },
  {
   "cell_type": "code",
   "execution_count": 80,
   "id": "5450af41",
   "metadata": {
    "ExecuteTime": {
     "end_time": "2021-07-06T16:12:10.283827Z",
     "start_time": "2021-07-06T16:12:10.244645Z"
    }
   },
   "outputs": [
    {
     "data": {
      "text/html": [
       "<div>\n",
       "<style scoped>\n",
       "    .dataframe tbody tr th:only-of-type {\n",
       "        vertical-align: middle;\n",
       "    }\n",
       "\n",
       "    .dataframe tbody tr th {\n",
       "        vertical-align: top;\n",
       "    }\n",
       "\n",
       "    .dataframe thead th {\n",
       "        text-align: right;\n",
       "    }\n",
       "</style>\n",
       "<table border=\"1\" class=\"dataframe\">\n",
       "  <thead>\n",
       "    <tr style=\"text-align: right;\">\n",
       "      <th></th>\n",
       "      <th>name</th>\n",
       "      <th>facebook</th>\n",
       "      <th>twitter</th>\n",
       "      <th>website</th>\n",
       "      <th>genre</th>\n",
       "      <th>mtv</th>\n",
       "    </tr>\n",
       "  </thead>\n",
       "  <tbody>\n",
       "    <tr>\n",
       "      <th>0</th>\n",
       "      <td>Adele</td>\n",
       "      <td>http://www.facebook.com/9770929278</td>\n",
       "      <td>http://www.twitter.com/officialadele</td>\n",
       "      <td>NaN</td>\n",
       "      <td>Pop</td>\n",
       "      <td>http://www.mtv.com/artists/adele/biography</td>\n",
       "    </tr>\n",
       "    <tr>\n",
       "      <th>1</th>\n",
       "      <td>Joey + Rory</td>\n",
       "      <td>http://www.facebook.com/15044507815</td>\n",
       "      <td>http://www.twitter.com/joeyandrory</td>\n",
       "      <td>NaN</td>\n",
       "      <td>Country</td>\n",
       "      <td>http://www.cmt.com/artists/joey-rory/biography</td>\n",
       "    </tr>\n",
       "    <tr>\n",
       "      <th>2</th>\n",
       "      <td>Draaco Aventura</td>\n",
       "      <td>http://www.facebook.com/856796091053581</td>\n",
       "      <td>http://www.twitter.com/DraacoAventura</td>\n",
       "      <td>http://www.bandpage.com/draacoaventura</td>\n",
       "      <td>Pop Latino</td>\n",
       "      <td>http://www.mtv.com/artists/draaco-aventura/bio...</td>\n",
       "    </tr>\n",
       "    <tr>\n",
       "      <th>3</th>\n",
       "      <td>Justin Bieber</td>\n",
       "      <td>http://www.facebook.com/309570926875</td>\n",
       "      <td>http://www.twitter.com/justinbieber</td>\n",
       "      <td>http://www.justinbiebermusic.com</td>\n",
       "      <td>Pop</td>\n",
       "      <td>http://www.mtv.com/artists/justin-bieber/biogr...</td>\n",
       "    </tr>\n",
       "    <tr>\n",
       "      <th>4</th>\n",
       "      <td>Peer van Mladen</td>\n",
       "      <td>http://www.facebook.com/264487966</td>\n",
       "      <td>http://www.twitter.com/Predrag_Jugovic</td>\n",
       "      <td>http://pejaintergroup.eu/Peer_van_Mladen.html</td>\n",
       "      <td>House</td>\n",
       "      <td>http://www.mtv.com/artists/peer-van-mladen/bio...</td>\n",
       "    </tr>\n",
       "  </tbody>\n",
       "</table>\n",
       "</div>"
      ],
      "text/plain": [
       "                name                                 facebook  \\\n",
       "0             Adele        http://www.facebook.com/9770929278   \n",
       "1       Joey + Rory       http://www.facebook.com/15044507815   \n",
       "2   Draaco Aventura   http://www.facebook.com/856796091053581   \n",
       "3     Justin Bieber      http://www.facebook.com/309570926875   \n",
       "4   Peer van Mladen         http://www.facebook.com/264487966   \n",
       "\n",
       "                                  twitter  \\\n",
       "0    http://www.twitter.com/officialadele   \n",
       "1      http://www.twitter.com/joeyandrory   \n",
       "2   http://www.twitter.com/DraacoAventura   \n",
       "3     http://www.twitter.com/justinbieber   \n",
       "4  http://www.twitter.com/Predrag_Jugovic   \n",
       "\n",
       "                                         website       genre  \\\n",
       "0                                            NaN         Pop   \n",
       "1                                            NaN     Country   \n",
       "2         http://www.bandpage.com/draacoaventura  Pop Latino   \n",
       "3               http://www.justinbiebermusic.com         Pop   \n",
       "4  http://pejaintergroup.eu/Peer_van_Mladen.html       House   \n",
       "\n",
       "                                                 mtv  \n",
       "0         http://www.mtv.com/artists/adele/biography  \n",
       "1     http://www.cmt.com/artists/joey-rory/biography  \n",
       "2  http://www.mtv.com/artists/draaco-aventura/bio...  \n",
       "3  http://www.mtv.com/artists/justin-bieber/biogr...  \n",
       "4  http://www.mtv.com/artists/peer-van-mladen/bio...  "
      ]
     },
     "execution_count": 80,
     "metadata": {},
     "output_type": "execute_result"
    }
   ],
   "source": [
    "mtv_artists.head()"
   ]
  },
  {
   "cell_type": "markdown",
   "id": "17313c23",
   "metadata": {},
   "source": [
    "**Drop unnecessary columns and fill n/a will NaN. Will skip over in scrape**"
   ]
  },
  {
   "cell_type": "code",
   "execution_count": 81,
   "id": "5d029c87",
   "metadata": {
    "ExecuteTime": {
     "end_time": "2021-07-06T16:12:15.011592Z",
     "start_time": "2021-07-06T16:12:15.000417Z"
    }
   },
   "outputs": [],
   "source": [
    "mtv_artists.drop(columns=['facebook', 'twitter', 'website', 'mtv'], inplace=True)"
   ]
  },
  {
   "cell_type": "code",
   "execution_count": 82,
   "id": "cab5f86b",
   "metadata": {
    "ExecuteTime": {
     "end_time": "2021-07-06T16:12:16.153472Z",
     "start_time": "2021-07-06T16:12:16.138702Z"
    }
   },
   "outputs": [],
   "source": [
    "mtv_artists.fillna('NaN', inplace=True) #make sure name column is dtype object"
   ]
  },
  {
   "cell_type": "markdown",
   "id": "ef093d17",
   "metadata": {},
   "source": [
    "**Select genres I want to focus on. For my purposes I prefer alternative/indie, so that's what I'm going with here.**"
   ]
  },
  {
   "cell_type": "code",
   "execution_count": 83,
   "id": "5f45c642",
   "metadata": {
    "ExecuteTime": {
     "end_time": "2021-07-06T16:12:17.250463Z",
     "start_time": "2021-07-06T16:12:17.224623Z"
    }
   },
   "outputs": [
    {
     "data": {
      "text/plain": [
       "NaN                     3226\n",
       "Rock                     899\n",
       "Country                  645\n",
       "Hip-Hop/Rap              386\n",
       "Pop                      385\n",
       "Alternative              336\n",
       "R&B/Soul                 217\n",
       "Hip-Hop                  200\n",
       "Latin                    146\n",
       "Jazz                     133\n",
       "World/Reggae              91\n",
       "Pop/Rock                  82\n",
       "Soul                      80\n",
       "Indie Rock                80\n",
       "Contemporary Country      80\n",
       "Blues/Folk                79\n",
       "Classic Rock              61\n",
       "Electronic                61\n",
       "Inspirational             59\n",
       "Electronic/Dance          53\n",
       "Name: genre, dtype: int64"
      ]
     },
     "execution_count": 83,
     "metadata": {},
     "output_type": "execute_result"
    }
   ],
   "source": [
    "mtv_artists['genre'].value_counts().head(20)"
   ]
  },
  {
   "cell_type": "code",
   "execution_count": 114,
   "id": "98329c54",
   "metadata": {
    "ExecuteTime": {
     "end_time": "2021-07-06T21:00:50.817536Z",
     "start_time": "2021-07-06T21:00:50.728173Z"
    },
    "scrolled": true
   },
   "outputs": [
    {
     "data": {
      "text/plain": [
       "{'Adult Alternative',\n",
       " 'Alternative',\n",
       " 'Alternative Country',\n",
       " 'Alternative Folk',\n",
       " 'Alternative Rap',\n",
       " 'Indie Rock'}"
      ]
     },
     "execution_count": 114,
     "metadata": {},
     "output_type": "execute_result"
    }
   ],
   "source": [
    "set([genre for genre in mtv_artists['genre'] if 'alternative' in genre.lower()\n",
    "    or 'indie' in genre.lower()])"
   ]
  },
  {
   "cell_type": "markdown",
   "id": "53d52c87",
   "metadata": {},
   "source": [
    "**Ended up using mostly rock and alternative**"
   ]
  },
  {
   "cell_type": "code",
   "execution_count": 121,
   "id": "7b00ad87",
   "metadata": {
    "ExecuteTime": {
     "end_time": "2021-07-06T21:01:56.334584Z",
     "start_time": "2021-07-06T21:01:56.325235Z"
    }
   },
   "outputs": [],
   "source": [
    "final_artists = mtv_artists[mtv_artists['genre'].isin(['Alternative', 'Indie Rock',\n",
    "                                                       'Alternative Rock', 'Folk-Rock'])]"
   ]
  },
  {
   "cell_type": "code",
   "execution_count": 122,
   "id": "89343dbd",
   "metadata": {
    "ExecuteTime": {
     "end_time": "2021-07-06T21:01:56.902804Z",
     "start_time": "2021-07-06T21:01:56.896480Z"
    }
   },
   "outputs": [],
   "source": [
    "artist_lst = [name.strip() for name in final_artists.name]"
   ]
  },
  {
   "cell_type": "code",
   "execution_count": 123,
   "id": "705e420e",
   "metadata": {
    "ExecuteTime": {
     "end_time": "2021-07-06T21:01:57.439812Z",
     "start_time": "2021-07-06T21:01:57.432645Z"
    }
   },
   "outputs": [
    {
     "data": {
      "text/plain": [
       "429"
      ]
     },
     "execution_count": 123,
     "metadata": {},
     "output_type": "execute_result"
    }
   ],
   "source": [
    "len(artist_lst)"
   ]
  },
  {
   "cell_type": "markdown",
   "id": "26da2f15",
   "metadata": {},
   "source": [
    "**Import spotipy and set credentials (remove these when making public on github)**"
   ]
  },
  {
   "cell_type": "code",
   "execution_count": 1,
   "id": "19b04636",
   "metadata": {
    "ExecuteTime": {
     "end_time": "2021-07-07T03:04:13.449311Z",
     "start_time": "2021-07-07T03:04:13.349405Z"
    }
   },
   "outputs": [],
   "source": [
    "import spotipy\n",
    "from spotipy.oauth2 import SpotifyClientCredentials\n",
    "client_id = 'YOUR_CLIENT_ID'\n",
    "client_secret = 'YOUR_CLIENT_SECRET'\n",
    "client_credentials_manager = SpotifyClientCredentials(client_id, client_secret)\n",
    "sp = spotipy.Spotify(client_credentials_manager=client_credentials_manager)"
   ]
  },
  {
   "cell_type": "markdown",
   "id": "89f9c446",
   "metadata": {},
   "source": [
    "**First get artist information and URI (unique artist identifier needed to obtain albums)**"
   ]
  },
  {
   "cell_type": "code",
   "execution_count": 125,
   "id": "8c5c6ddb",
   "metadata": {
    "ExecuteTime": {
     "end_time": "2021-07-06T21:02:09.400672Z",
     "start_time": "2021-07-06T21:02:09.372950Z"
    },
    "scrolled": true
   },
   "outputs": [],
   "source": [
    "import time\n",
    "\n",
    "def get_artist_info(artist_lst):\n",
    "    artist_dict = []\n",
    "    counter = 0\n",
    "    for artist in artist_lst:\n",
    "        counter += 1\n",
    "        if counter % 200 == 0:\n",
    "            time.sleep(3) #add 3 seconds to avoid being rate-limited by spotify\n",
    "        try:\n",
    "            name = artist #chosen artist\n",
    "            result = sp.search(name) #search query\n",
    "            artist_dict.append(result['tracks']['items'][0]['artists'])\n",
    "            \n",
    "        #Extract Artist's uri\n",
    "            artist_uri = result['tracks']['items'][0]['artists'][0]['uri']\n",
    "        except:\n",
    "            pass\n",
    "    return artist_dict"
   ]
  },
  {
   "cell_type": "code",
   "execution_count": 126,
   "id": "0d50b9c0",
   "metadata": {
    "ExecuteTime": {
     "end_time": "2021-07-06T21:02:59.435895Z",
     "start_time": "2021-07-06T21:02:10.530143Z"
    }
   },
   "outputs": [],
   "source": [
    "artist_dict = get_artist_info(artist_lst)"
   ]
  },
  {
   "cell_type": "code",
   "execution_count": 127,
   "id": "b56dc216",
   "metadata": {
    "ExecuteTime": {
     "end_time": "2021-07-06T21:02:59.447868Z",
     "start_time": "2021-07-06T21:02:59.441152Z"
    }
   },
   "outputs": [],
   "source": [
    "def get_artist_uris():\n",
    "    uris = []\n",
    "    for elem in artist_dict:\n",
    "        for k, v in elem[0].items():\n",
    "            if k =='uri':\n",
    "                uris.append(v)\n",
    "    return uris   "
   ]
  },
  {
   "cell_type": "code",
   "execution_count": 128,
   "id": "d7be6315",
   "metadata": {
    "ExecuteTime": {
     "end_time": "2021-07-06T21:02:59.454625Z",
     "start_time": "2021-07-06T21:02:59.451818Z"
    }
   },
   "outputs": [],
   "source": [
    "uris = get_artist_uris()"
   ]
  },
  {
   "cell_type": "markdown",
   "id": "2d937c7f",
   "metadata": {},
   "source": [
    "**Function for album names**"
   ]
  },
  {
   "cell_type": "code",
   "execution_count": 129,
   "id": "5dc333e5",
   "metadata": {
    "ExecuteTime": {
     "end_time": "2021-07-06T21:02:59.464302Z",
     "start_time": "2021-07-06T21:02:59.457549Z"
    }
   },
   "outputs": [],
   "source": [
    "def get_album_names():\n",
    "    album_names = []\n",
    "    for uri in uris:\n",
    "        sp_albums = sp.artist_albums(uri, album_type='album')\n",
    "        for d in sp_albums['items']:\n",
    "            for k, v in d.items():\n",
    "                if k =='name':\n",
    "                    album_names.append(v)\n",
    "    return album_names"
   ]
  },
  {
   "cell_type": "code",
   "execution_count": 131,
   "id": "f09180d0",
   "metadata": {
    "ExecuteTime": {
     "end_time": "2021-07-06T21:03:47.640612Z",
     "start_time": "2021-07-06T21:03:09.333225Z"
    }
   },
   "outputs": [],
   "source": [
    "album_names = get_album_names()\n",
    "album_names = list(set(album_names))"
   ]
  },
  {
   "cell_type": "markdown",
   "id": "88a4f2f2",
   "metadata": {},
   "source": [
    "**Function for album uri**"
   ]
  },
  {
   "cell_type": "code",
   "execution_count": 133,
   "id": "192d9f2a",
   "metadata": {
    "ExecuteTime": {
     "end_time": "2021-07-06T21:04:59.515264Z",
     "start_time": "2021-07-06T21:04:59.505649Z"
    }
   },
   "outputs": [],
   "source": [
    "def get_album_uris():\n",
    "    album_uris = []\n",
    "    for uri in uris:\n",
    "        sp_albums = sp.artist_albums(uri, album_type='album')\n",
    "        for d in sp_albums['items']:\n",
    "            for k, v in d.items():\n",
    "                if k =='uri':\n",
    "                    album_uris.append(v)\n",
    "    return album_uris"
   ]
  },
  {
   "cell_type": "code",
   "execution_count": 134,
   "id": "c3ac0ddb",
   "metadata": {
    "ExecuteTime": {
     "end_time": "2021-07-06T21:05:36.878045Z",
     "start_time": "2021-07-06T21:05:00.177665Z"
    }
   },
   "outputs": [],
   "source": [
    "album_uris = get_album_uris()"
   ]
  },
  {
   "cell_type": "markdown",
   "id": "6074b953",
   "metadata": {},
   "source": [
    "**Get each song from album**"
   ]
  },
  {
   "cell_type": "code",
   "execution_count": 135,
   "id": "023915a7",
   "metadata": {
    "ExecuteTime": {
     "end_time": "2021-07-06T21:05:36.899563Z",
     "start_time": "2021-07-06T21:05:36.880681Z"
    }
   },
   "outputs": [],
   "source": [
    "def album_songs(uri):\n",
    "    album = uri \n",
    "    spotify_albums[album] = {}\n",
    "    #Create keys-values of empty lists inside nested dictionary for album\n",
    "    spotify_albums[album]['album'] = [] \n",
    "    spotify_albums[album]['track_number'] = []\n",
    "    spotify_albums[album]['id'] = []\n",
    "    spotify_albums[album]['name'] = []\n",
    "    spotify_albums[album]['uri'] = []\n",
    "    #pull data on album tracks\n",
    "    tracks = sp.album_tracks(album) \n",
    "    for n in range(len(tracks['items'])): \n",
    "        spotify_albums[album]['album'].append(album_uris[album_count]) \n",
    "        spotify_albums[album]['track_number'].append(tracks['items'][n]['track_number'])\n",
    "        spotify_albums[album]['id'].append(tracks['items'][n]['id'])\n",
    "        spotify_albums[album]['name'].append(tracks['items'][n]['name'])\n",
    "        spotify_albums[album]['uri'].append(tracks['items'][n]['uri'])"
   ]
  },
  {
   "cell_type": "code",
   "execution_count": 136,
   "id": "30ab340d",
   "metadata": {
    "ExecuteTime": {
     "end_time": "2021-07-06T21:05:36.904895Z",
     "start_time": "2021-07-06T21:05:36.902617Z"
    }
   },
   "outputs": [],
   "source": [
    "#help for code below:\n",
    "#https://www.kaggle.com/pavansanagapati/spotify-music-api-data-extraction-part1\n",
    "#https://betterprogramming.pub/how-to-extract-any-artists-data-using-spotify-s-api-python-and-spotipy-4c079401bc37"
   ]
  },
  {
   "cell_type": "code",
   "execution_count": 137,
   "id": "aa750dca",
   "metadata": {
    "ExecuteTime": {
     "end_time": "2021-07-06T21:13:26.814567Z",
     "start_time": "2021-07-06T21:05:36.908114Z"
    }
   },
   "outputs": [
    {
     "data": {
      "text/plain": [
       "4781"
      ]
     },
     "execution_count": 137,
     "metadata": {},
     "output_type": "execute_result"
    }
   ],
   "source": [
    "spotify_albums = {}\n",
    "album_count = 0\n",
    "for i in album_uris: #each album\n",
    "    album_songs(i)\n",
    "    album_count+=1\n",
    "album_count"
   ]
  },
  {
   "cell_type": "markdown",
   "id": "54935bd9",
   "metadata": {},
   "source": [
    "**Function for each song feature from each song of each album scraped**"
   ]
  },
  {
   "cell_type": "code",
   "execution_count": 138,
   "id": "5e119e4d",
   "metadata": {
    "ExecuteTime": {
     "end_time": "2021-07-06T21:13:26.841894Z",
     "start_time": "2021-07-06T21:13:26.818818Z"
    }
   },
   "outputs": [],
   "source": [
    "def audio_features(album):\n",
    "    #Add new key-values to store audio features\n",
    "    spotify_albums[album]['acousticness'] = []\n",
    "    spotify_albums[album]['danceability'] = []\n",
    "    spotify_albums[album]['energy'] = []\n",
    "    spotify_albums[album]['instrumentalness'] = []\n",
    "    spotify_albums[album]['liveness'] = []\n",
    "    spotify_albums[album]['loudness'] = []\n",
    "    spotify_albums[album]['speechiness'] = []\n",
    "    spotify_albums[album]['tempo'] = []\n",
    "    spotify_albums[album]['valence'] = []\n",
    "    spotify_albums[album]['popularity'] = []\n",
    "    track_count = 0\n",
    "    for track in spotify_albums[album]['uri']:\n",
    "        #pull audio features per track\n",
    "        try:\n",
    "            features = sp.audio_features(track)\n",
    "\n",
    "            \n",
    "        #Append to relevant key-value\n",
    "            spotify_albums[album]['acousticness'].append(features[0]['acousticness'])\n",
    "            spotify_albums[album]['danceability'].append(features[0]['danceability'])\n",
    "            spotify_albums[album]['energy'].append(features[0]['energy'])\n",
    "            spotify_albums[album]['instrumentalness'].append(features[0]['instrumentalness'])\n",
    "            spotify_albums[album]['liveness'].append(features[0]['liveness'])\n",
    "            spotify_albums[album]['loudness'].append(features[0]['loudness'])\n",
    "            spotify_albums[album]['speechiness'].append(features[0]['speechiness'])\n",
    "            spotify_albums[album]['tempo'].append(features[0]['tempo'])\n",
    "            spotify_albums[album]['valence'].append(features[0]['valence'])\n",
    "        \n",
    "        #popularity is stored elsewhere\n",
    "            pop = sp.track(track)\n",
    "            spotify_albums[album]['popularity'].append(pop['popularity'])\n",
    "            track_count+=1\n",
    "#             spotify_albums[album]['artist'].append(artist['artist']) fix this; artist is stored in 'items'\n",
    "        except:\n",
    "            pass\n",
    "        "
   ]
  },
  {
   "cell_type": "markdown",
   "id": "917aaadf",
   "metadata": {},
   "source": [
    "**Scrape API for song feature per song. Set up counter to check status and estimate runtime based on number of albums**"
   ]
  },
  {
   "cell_type": "code",
   "execution_count": null,
   "id": "0e0d49a9",
   "metadata": {
    "ExecuteTime": {
     "end_time": "2021-07-07T00:55:42.825782Z",
     "start_time": "2021-07-06T21:13:26.845254Z"
    }
   },
   "outputs": [],
   "source": [
    "sleep_min = 2\n",
    "sleep_max = 5\n",
    "start_time = time.time()\n",
    "request_count = 0\n",
    "for i in spotify_albums:\n",
    "    try:\n",
    "        audio_features(i)\n",
    "        request_count+=1\n",
    "\n",
    "        if request_count % 5 == 0:\n",
    "            print(str(request_count) + \" albums completed\")\n",
    "            time.sleep(np.random.uniform(sleep_min, sleep_max))\n",
    "            print('Loop #: {}'.format(request_count))\n",
    "            print('Elapsed Time: {} seconds'.format(time.time() - start_time))\n",
    "    except:\n",
    "        pass"
   ]
  },
  {
   "cell_type": "markdown",
   "id": "475a719e",
   "metadata": {},
   "source": [
    "**Create dictionary of song features per track to translate into dataframe**"
   ]
  },
  {
   "cell_type": "code",
   "execution_count": 145,
   "id": "9beef452",
   "metadata": {
    "ExecuteTime": {
     "end_time": "2021-07-07T01:05:49.218104Z",
     "start_time": "2021-07-07T01:05:49.121710Z"
    }
   },
   "outputs": [
    {
     "data": {
      "text/plain": [
       "67605"
      ]
     },
     "execution_count": 145,
     "metadata": {},
     "output_type": "execute_result"
    }
   ],
   "source": [
    "dic_df = {}\n",
    "dic_df['album'] = []\n",
    "dic_df['track_number'] = []\n",
    "dic_df['id'] = []\n",
    "dic_df['name'] = []\n",
    "dic_df['uri'] = []\n",
    "dic_df['acousticness'] = []\n",
    "dic_df['danceability'] = []\n",
    "dic_df['energy'] = []\n",
    "dic_df['instrumentalness'] = []\n",
    "dic_df['liveness'] = []\n",
    "dic_df['loudness'] = []\n",
    "dic_df['speechiness'] = []\n",
    "dic_df['tempo'] = []\n",
    "dic_df['valence'] = []\n",
    "dic_df['popularity'] = []\n",
    "\n",
    "for album in spotify_albums: \n",
    "    for feature in spotify_albums[album]:\n",
    "        dic_df[feature].extend(spotify_albums[album][feature])\n",
    "        \n",
    "len(dic_df['album'])"
   ]
  },
  {
   "cell_type": "code",
   "execution_count": 146,
   "id": "56caa02e",
   "metadata": {
    "ExecuteTime": {
     "end_time": "2021-07-07T01:05:50.255705Z",
     "start_time": "2021-07-07T01:05:50.250014Z"
    }
   },
   "outputs": [
    {
     "data": {
      "text/plain": [
       "67560"
      ]
     },
     "execution_count": 146,
     "metadata": {},
     "output_type": "execute_result"
    }
   ],
   "source": [
    "len(dic_df['popularity'])"
   ]
  },
  {
   "cell_type": "code",
   "execution_count": 147,
   "id": "d935d7f5",
   "metadata": {
    "ExecuteTime": {
     "end_time": "2021-07-07T01:05:52.428402Z",
     "start_time": "2021-07-07T01:05:52.213172Z"
    }
   },
   "outputs": [
    {
     "data": {
      "text/html": [
       "<div>\n",
       "<style scoped>\n",
       "    .dataframe tbody tr th:only-of-type {\n",
       "        vertical-align: middle;\n",
       "    }\n",
       "\n",
       "    .dataframe tbody tr th {\n",
       "        vertical-align: top;\n",
       "    }\n",
       "\n",
       "    .dataframe thead th {\n",
       "        text-align: right;\n",
       "    }\n",
       "</style>\n",
       "<table border=\"1\" class=\"dataframe\">\n",
       "  <thead>\n",
       "    <tr style=\"text-align: right;\">\n",
       "      <th></th>\n",
       "      <th>album</th>\n",
       "      <th>track_number</th>\n",
       "      <th>id</th>\n",
       "      <th>name</th>\n",
       "      <th>uri</th>\n",
       "      <th>acousticness</th>\n",
       "      <th>danceability</th>\n",
       "      <th>energy</th>\n",
       "      <th>instrumentalness</th>\n",
       "      <th>liveness</th>\n",
       "      <th>loudness</th>\n",
       "      <th>speechiness</th>\n",
       "      <th>tempo</th>\n",
       "      <th>valence</th>\n",
       "      <th>popularity</th>\n",
       "    </tr>\n",
       "  </thead>\n",
       "  <tbody>\n",
       "    <tr>\n",
       "      <th>0</th>\n",
       "      <td>spotify:album:0Q5XBpCYFgUWiG9DUWyAmJ</td>\n",
       "      <td>1</td>\n",
       "      <td>3uwYgNxFDfx1GoLB6tLoUn</td>\n",
       "      <td>Good Day</td>\n",
       "      <td>spotify:track:3uwYgNxFDfx1GoLB6tLoUn</td>\n",
       "      <td>0.110000</td>\n",
       "      <td>0.684</td>\n",
       "      <td>0.677</td>\n",
       "      <td>0.009750</td>\n",
       "      <td>0.3400</td>\n",
       "      <td>-7.355</td>\n",
       "      <td>0.0401</td>\n",
       "      <td>142.048</td>\n",
       "      <td>0.370</td>\n",
       "      <td>73.0</td>\n",
       "    </tr>\n",
       "    <tr>\n",
       "      <th>1</th>\n",
       "      <td>spotify:album:0Q5XBpCYFgUWiG9DUWyAmJ</td>\n",
       "      <td>2</td>\n",
       "      <td>732E6ibFkQR5lNIPEeiEnx</td>\n",
       "      <td>Choker</td>\n",
       "      <td>spotify:track:732E6ibFkQR5lNIPEeiEnx</td>\n",
       "      <td>0.306000</td>\n",
       "      <td>0.700</td>\n",
       "      <td>0.664</td>\n",
       "      <td>0.000019</td>\n",
       "      <td>0.2490</td>\n",
       "      <td>-8.211</td>\n",
       "      <td>0.0394</td>\n",
       "      <td>142.009</td>\n",
       "      <td>0.585</td>\n",
       "      <td>76.0</td>\n",
       "    </tr>\n",
       "    <tr>\n",
       "      <th>2</th>\n",
       "      <td>spotify:album:0Q5XBpCYFgUWiG9DUWyAmJ</td>\n",
       "      <td>3</td>\n",
       "      <td>2nG54Y4a3sH9YpfxMolOyi</td>\n",
       "      <td>Shy Away</td>\n",
       "      <td>spotify:track:2nG54Y4a3sH9YpfxMolOyi</td>\n",
       "      <td>0.000818</td>\n",
       "      <td>0.588</td>\n",
       "      <td>0.856</td>\n",
       "      <td>0.073900</td>\n",
       "      <td>0.2380</td>\n",
       "      <td>-5.242</td>\n",
       "      <td>0.0316</td>\n",
       "      <td>96.966</td>\n",
       "      <td>0.635</td>\n",
       "      <td>80.0</td>\n",
       "    </tr>\n",
       "    <tr>\n",
       "      <th>3</th>\n",
       "      <td>spotify:album:0Q5XBpCYFgUWiG9DUWyAmJ</td>\n",
       "      <td>4</td>\n",
       "      <td>0yzj6eBs5a6X6d3P5qaQ5J</td>\n",
       "      <td>The Outside</td>\n",
       "      <td>spotify:track:0yzj6eBs5a6X6d3P5qaQ5J</td>\n",
       "      <td>0.050500</td>\n",
       "      <td>0.785</td>\n",
       "      <td>0.623</td>\n",
       "      <td>0.125000</td>\n",
       "      <td>0.0539</td>\n",
       "      <td>-6.923</td>\n",
       "      <td>0.0403</td>\n",
       "      <td>100.991</td>\n",
       "      <td>0.711</td>\n",
       "      <td>74.0</td>\n",
       "    </tr>\n",
       "    <tr>\n",
       "      <th>4</th>\n",
       "      <td>spotify:album:0Q5XBpCYFgUWiG9DUWyAmJ</td>\n",
       "      <td>5</td>\n",
       "      <td>60dwJ8dnqZ4WrIdiu7LkNR</td>\n",
       "      <td>Saturday</td>\n",
       "      <td>spotify:track:60dwJ8dnqZ4WrIdiu7LkNR</td>\n",
       "      <td>0.003960</td>\n",
       "      <td>0.687</td>\n",
       "      <td>0.890</td>\n",
       "      <td>0.000939</td>\n",
       "      <td>0.0436</td>\n",
       "      <td>-5.990</td>\n",
       "      <td>0.0344</td>\n",
       "      <td>113.060</td>\n",
       "      <td>0.854</td>\n",
       "      <td>78.0</td>\n",
       "    </tr>\n",
       "  </tbody>\n",
       "</table>\n",
       "</div>"
      ],
      "text/plain": [
       "                                  album  track_number                      id  \\\n",
       "0  spotify:album:0Q5XBpCYFgUWiG9DUWyAmJ             1  3uwYgNxFDfx1GoLB6tLoUn   \n",
       "1  spotify:album:0Q5XBpCYFgUWiG9DUWyAmJ             2  732E6ibFkQR5lNIPEeiEnx   \n",
       "2  spotify:album:0Q5XBpCYFgUWiG9DUWyAmJ             3  2nG54Y4a3sH9YpfxMolOyi   \n",
       "3  spotify:album:0Q5XBpCYFgUWiG9DUWyAmJ             4  0yzj6eBs5a6X6d3P5qaQ5J   \n",
       "4  spotify:album:0Q5XBpCYFgUWiG9DUWyAmJ             5  60dwJ8dnqZ4WrIdiu7LkNR   \n",
       "\n",
       "          name                                   uri  acousticness  \\\n",
       "0     Good Day  spotify:track:3uwYgNxFDfx1GoLB6tLoUn      0.110000   \n",
       "1       Choker  spotify:track:732E6ibFkQR5lNIPEeiEnx      0.306000   \n",
       "2     Shy Away  spotify:track:2nG54Y4a3sH9YpfxMolOyi      0.000818   \n",
       "3  The Outside  spotify:track:0yzj6eBs5a6X6d3P5qaQ5J      0.050500   \n",
       "4     Saturday  spotify:track:60dwJ8dnqZ4WrIdiu7LkNR      0.003960   \n",
       "\n",
       "   danceability  energy  instrumentalness  liveness  loudness  speechiness  \\\n",
       "0         0.684   0.677          0.009750    0.3400    -7.355       0.0401   \n",
       "1         0.700   0.664          0.000019    0.2490    -8.211       0.0394   \n",
       "2         0.588   0.856          0.073900    0.2380    -5.242       0.0316   \n",
       "3         0.785   0.623          0.125000    0.0539    -6.923       0.0403   \n",
       "4         0.687   0.890          0.000939    0.0436    -5.990       0.0344   \n",
       "\n",
       "     tempo  valence  popularity  \n",
       "0  142.048    0.370        73.0  \n",
       "1  142.009    0.585        76.0  \n",
       "2   96.966    0.635        80.0  \n",
       "3  100.991    0.711        74.0  \n",
       "4  113.060    0.854        78.0  "
      ]
     },
     "execution_count": 147,
     "metadata": {},
     "output_type": "execute_result"
    }
   ],
   "source": [
    "#arrays are not the same length, just going to drop nulls\n",
    "df = pd.DataFrame(dict([(k, pd.Series(v)) for k,v in dic_df.items()]))\n",
    "df.head()"
   ]
  },
  {
   "cell_type": "code",
   "execution_count": 148,
   "id": "2ba95376",
   "metadata": {
    "ExecuteTime": {
     "end_time": "2021-07-07T01:06:02.625620Z",
     "start_time": "2021-07-07T01:06:02.612815Z"
    }
   },
   "outputs": [],
   "source": [
    "#can drop track number and id (redundant)\n",
    "df.drop(columns=['id'], inplace=True)"
   ]
  },
  {
   "cell_type": "code",
   "execution_count": 149,
   "id": "f14201dd",
   "metadata": {
    "ExecuteTime": {
     "end_time": "2021-07-07T01:06:03.138142Z",
     "start_time": "2021-07-07T01:06:03.106676Z"
    }
   },
   "outputs": [],
   "source": [
    "#drop any nulls\n",
    "df.dropna(inplace=True)"
   ]
  },
  {
   "cell_type": "code",
   "execution_count": 150,
   "id": "3fa7dd9d",
   "metadata": {
    "ExecuteTime": {
     "end_time": "2021-07-07T01:06:04.313462Z",
     "start_time": "2021-07-07T01:06:03.664290Z"
    }
   },
   "outputs": [],
   "source": [
    "#export to csv\n",
    "df.to_csv('data/alternative_finalv3.csv', index=False) #start here"
   ]
  },
  {
   "cell_type": "code",
   "execution_count": 151,
   "id": "9139e5d6",
   "metadata": {
    "ExecuteTime": {
     "end_time": "2021-07-07T01:06:06.267314Z",
     "start_time": "2021-07-07T01:06:06.017974Z"
    }
   },
   "outputs": [],
   "source": [
    "#read back in to double check for nulls\n",
    "df = pd.read_csv('data/alternative_finalv3.csv')"
   ]
  },
  {
   "cell_type": "code",
   "execution_count": 152,
   "id": "979238d9",
   "metadata": {
    "ExecuteTime": {
     "end_time": "2021-07-07T01:06:06.609341Z",
     "start_time": "2021-07-07T01:06:06.585339Z"
    },
    "scrolled": true
   },
   "outputs": [
    {
     "data": {
      "text/plain": [
       "album               0\n",
       "track_number        0\n",
       "name                0\n",
       "uri                 0\n",
       "acousticness        0\n",
       "danceability        0\n",
       "energy              0\n",
       "instrumentalness    0\n",
       "liveness            0\n",
       "loudness            0\n",
       "speechiness         0\n",
       "tempo               0\n",
       "valence             0\n",
       "popularity          0\n",
       "dtype: int64"
      ]
     },
     "execution_count": 152,
     "metadata": {},
     "output_type": "execute_result"
    }
   ],
   "source": [
    "df.isnull().sum()"
   ]
  },
  {
   "cell_type": "code",
   "execution_count": 153,
   "id": "9766b9dd",
   "metadata": {
    "ExecuteTime": {
     "end_time": "2021-07-07T01:06:09.547685Z",
     "start_time": "2021-07-07T01:06:09.527162Z"
    },
    "scrolled": true
   },
   "outputs": [
    {
     "data": {
      "text/html": [
       "<div>\n",
       "<style scoped>\n",
       "    .dataframe tbody tr th:only-of-type {\n",
       "        vertical-align: middle;\n",
       "    }\n",
       "\n",
       "    .dataframe tbody tr th {\n",
       "        vertical-align: top;\n",
       "    }\n",
       "\n",
       "    .dataframe thead th {\n",
       "        text-align: right;\n",
       "    }\n",
       "</style>\n",
       "<table border=\"1\" class=\"dataframe\">\n",
       "  <thead>\n",
       "    <tr style=\"text-align: right;\">\n",
       "      <th></th>\n",
       "      <th>album</th>\n",
       "      <th>track_number</th>\n",
       "      <th>name</th>\n",
       "      <th>uri</th>\n",
       "      <th>acousticness</th>\n",
       "      <th>danceability</th>\n",
       "      <th>energy</th>\n",
       "      <th>instrumentalness</th>\n",
       "      <th>liveness</th>\n",
       "      <th>loudness</th>\n",
       "      <th>speechiness</th>\n",
       "      <th>tempo</th>\n",
       "      <th>valence</th>\n",
       "      <th>popularity</th>\n",
       "    </tr>\n",
       "  </thead>\n",
       "  <tbody>\n",
       "    <tr>\n",
       "      <th>0</th>\n",
       "      <td>spotify:album:0Q5XBpCYFgUWiG9DUWyAmJ</td>\n",
       "      <td>1</td>\n",
       "      <td>Good Day</td>\n",
       "      <td>spotify:track:3uwYgNxFDfx1GoLB6tLoUn</td>\n",
       "      <td>0.110000</td>\n",
       "      <td>0.684</td>\n",
       "      <td>0.677</td>\n",
       "      <td>0.009750</td>\n",
       "      <td>0.3400</td>\n",
       "      <td>-7.355</td>\n",
       "      <td>0.0401</td>\n",
       "      <td>142.048</td>\n",
       "      <td>0.370</td>\n",
       "      <td>73.0</td>\n",
       "    </tr>\n",
       "    <tr>\n",
       "      <th>1</th>\n",
       "      <td>spotify:album:0Q5XBpCYFgUWiG9DUWyAmJ</td>\n",
       "      <td>2</td>\n",
       "      <td>Choker</td>\n",
       "      <td>spotify:track:732E6ibFkQR5lNIPEeiEnx</td>\n",
       "      <td>0.306000</td>\n",
       "      <td>0.700</td>\n",
       "      <td>0.664</td>\n",
       "      <td>0.000019</td>\n",
       "      <td>0.2490</td>\n",
       "      <td>-8.211</td>\n",
       "      <td>0.0394</td>\n",
       "      <td>142.009</td>\n",
       "      <td>0.585</td>\n",
       "      <td>76.0</td>\n",
       "    </tr>\n",
       "    <tr>\n",
       "      <th>2</th>\n",
       "      <td>spotify:album:0Q5XBpCYFgUWiG9DUWyAmJ</td>\n",
       "      <td>3</td>\n",
       "      <td>Shy Away</td>\n",
       "      <td>spotify:track:2nG54Y4a3sH9YpfxMolOyi</td>\n",
       "      <td>0.000818</td>\n",
       "      <td>0.588</td>\n",
       "      <td>0.856</td>\n",
       "      <td>0.073900</td>\n",
       "      <td>0.2380</td>\n",
       "      <td>-5.242</td>\n",
       "      <td>0.0316</td>\n",
       "      <td>96.966</td>\n",
       "      <td>0.635</td>\n",
       "      <td>80.0</td>\n",
       "    </tr>\n",
       "    <tr>\n",
       "      <th>3</th>\n",
       "      <td>spotify:album:0Q5XBpCYFgUWiG9DUWyAmJ</td>\n",
       "      <td>4</td>\n",
       "      <td>The Outside</td>\n",
       "      <td>spotify:track:0yzj6eBs5a6X6d3P5qaQ5J</td>\n",
       "      <td>0.050500</td>\n",
       "      <td>0.785</td>\n",
       "      <td>0.623</td>\n",
       "      <td>0.125000</td>\n",
       "      <td>0.0539</td>\n",
       "      <td>-6.923</td>\n",
       "      <td>0.0403</td>\n",
       "      <td>100.991</td>\n",
       "      <td>0.711</td>\n",
       "      <td>74.0</td>\n",
       "    </tr>\n",
       "    <tr>\n",
       "      <th>4</th>\n",
       "      <td>spotify:album:0Q5XBpCYFgUWiG9DUWyAmJ</td>\n",
       "      <td>5</td>\n",
       "      <td>Saturday</td>\n",
       "      <td>spotify:track:60dwJ8dnqZ4WrIdiu7LkNR</td>\n",
       "      <td>0.003960</td>\n",
       "      <td>0.687</td>\n",
       "      <td>0.890</td>\n",
       "      <td>0.000939</td>\n",
       "      <td>0.0436</td>\n",
       "      <td>-5.990</td>\n",
       "      <td>0.0344</td>\n",
       "      <td>113.060</td>\n",
       "      <td>0.854</td>\n",
       "      <td>78.0</td>\n",
       "    </tr>\n",
       "  </tbody>\n",
       "</table>\n",
       "</div>"
      ],
      "text/plain": [
       "                                  album  track_number         name  \\\n",
       "0  spotify:album:0Q5XBpCYFgUWiG9DUWyAmJ             1     Good Day   \n",
       "1  spotify:album:0Q5XBpCYFgUWiG9DUWyAmJ             2       Choker   \n",
       "2  spotify:album:0Q5XBpCYFgUWiG9DUWyAmJ             3     Shy Away   \n",
       "3  spotify:album:0Q5XBpCYFgUWiG9DUWyAmJ             4  The Outside   \n",
       "4  spotify:album:0Q5XBpCYFgUWiG9DUWyAmJ             5     Saturday   \n",
       "\n",
       "                                    uri  acousticness  danceability  energy  \\\n",
       "0  spotify:track:3uwYgNxFDfx1GoLB6tLoUn      0.110000         0.684   0.677   \n",
       "1  spotify:track:732E6ibFkQR5lNIPEeiEnx      0.306000         0.700   0.664   \n",
       "2  spotify:track:2nG54Y4a3sH9YpfxMolOyi      0.000818         0.588   0.856   \n",
       "3  spotify:track:0yzj6eBs5a6X6d3P5qaQ5J      0.050500         0.785   0.623   \n",
       "4  spotify:track:60dwJ8dnqZ4WrIdiu7LkNR      0.003960         0.687   0.890   \n",
       "\n",
       "   instrumentalness  liveness  loudness  speechiness    tempo  valence  \\\n",
       "0          0.009750    0.3400    -7.355       0.0401  142.048    0.370   \n",
       "1          0.000019    0.2490    -8.211       0.0394  142.009    0.585   \n",
       "2          0.073900    0.2380    -5.242       0.0316   96.966    0.635   \n",
       "3          0.125000    0.0539    -6.923       0.0403  100.991    0.711   \n",
       "4          0.000939    0.0436    -5.990       0.0344  113.060    0.854   \n",
       "\n",
       "   popularity  \n",
       "0        73.0  \n",
       "1        76.0  \n",
       "2        80.0  \n",
       "3        74.0  \n",
       "4        78.0  "
      ]
     },
     "execution_count": 153,
     "metadata": {},
     "output_type": "execute_result"
    }
   ],
   "source": [
    "df.head()"
   ]
  },
  {
   "cell_type": "code",
   "execution_count": 154,
   "id": "fbea6c18",
   "metadata": {
    "ExecuteTime": {
     "end_time": "2021-07-07T01:06:10.355819Z",
     "start_time": "2021-07-07T01:06:10.351049Z"
    }
   },
   "outputs": [
    {
     "data": {
      "text/plain": [
       "(67560, 14)"
      ]
     },
     "execution_count": 154,
     "metadata": {},
     "output_type": "execute_result"
    }
   ],
   "source": [
    "df.shape"
   ]
  }
 ],
 "metadata": {
  "kernelspec": {
   "display_name": "Python 3",
   "language": "python",
   "name": "python3"
  },
  "language_info": {
   "codemirror_mode": {
    "name": "ipython",
    "version": 3
   },
   "file_extension": ".py",
   "mimetype": "text/x-python",
   "name": "python",
   "nbconvert_exporter": "python",
   "pygments_lexer": "ipython3",
   "version": "3.9.2"
  }
 },
 "nbformat": 4,
 "nbformat_minor": 5
}
